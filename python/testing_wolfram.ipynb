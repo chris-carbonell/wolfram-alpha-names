{
 "cells": [
  {
   "cell_type": "code",
   "execution_count": null,
   "metadata": {},
   "outputs": [],
   "source": [
    "%%bash\n",
    "mkdir /python/output"
   ]
  },
  {
   "cell_type": "code",
   "execution_count": 1,
   "metadata": {},
   "outputs": [],
   "source": [
    "# general\n",
    "import os\n",
    "import random\n",
    "import csv\n",
    "\n",
    "# wolfram alpha\n",
    "import wolframalpha\n",
    "\n",
    "# images\n",
    "import urllib.request\n",
    "\n",
    "# email\n",
    "import smtplib, ssl\n",
    "from email.mime.text import MIMEText\n",
    "from email.mime.multipart import MIMEMultipart\n",
    "from email.mime.image import MIMEImage"
   ]
  },
  {
   "cell_type": "code",
   "execution_count": 2,
   "metadata": {
    "scrolled": true
   },
   "outputs": [
    {
     "data": {
      "text/plain": [
       "['ccarbonell228@gmail.com']"
      ]
     },
     "execution_count": 2,
     "metadata": {},
     "output_type": "execute_result"
    }
   ],
   "source": [
    "# get list from csv\n",
    "\n",
    "with open('/python/input/emails.csv', newline='') as f:\n",
    "    reader = csv.reader(f)\n",
    "    receiver_email = [row[0] for row in reader]\n",
    "    \n",
    "receiver_email"
   ]
  },
  {
   "cell_type": "markdown",
   "metadata": {},
   "source": [
    "Source:<br>\n",
    "https://www.geeksforgeeks.org/python-create-a-simple-assistant-using-wolfram-alpha-api/"
   ]
  },
  {
   "cell_type": "code",
   "execution_count": 3,
   "metadata": {},
   "outputs": [],
   "source": [
    "gbl_app_id = '2H79RA-9HVG6K889K' # improvement: get from secrets.py\n",
    "gbl_str_path_output = \"/python/output/\" # end with last /"
   ]
  },
  {
   "cell_type": "code",
   "execution_count": null,
   "metadata": {},
   "outputs": [],
   "source": [
    "# randomize\n",
    "gbl_str_gender = random.choice(['boys','girls'])\n",
    "gbl_int_rank = random.randint(1,5000)"
   ]
  },
  {
   "cell_type": "code",
   "execution_count": 4,
   "metadata": {},
   "outputs": [],
   "source": [
    "# wc = wolframalpha.Client(gbl_app_id)\n",
    "wc = wolframalpha.Client(gbl_app_id)"
   ]
  },
  {
   "cell_type": "code",
   "execution_count": 108,
   "metadata": {},
   "outputs": [],
   "source": [
    "# testing\n",
    "# question = \" \".join([\"#\" + str(gbl_int_rank), gbl_str_gender, \"name\"]) # ie \"#1 boys name\"\n",
    "# res = wc.query(question)\n",
    "res = wc.query(\"#3547 boys name\")\n",
    "# res = wc.query(\"origin of boys name Chris\")"
   ]
  },
  {
   "cell_type": "code",
   "execution_count": 13,
   "metadata": {
    "scrolled": true
   },
   "outputs": [
    {
     "name": "stdout",
     "output_type": "stream",
     "text": [
      "dict_keys(['@title', 'img', 'plaintext'])\n",
      "dict_keys(['@title', 'microsources', 'datasources', 'img', 'plaintext'])\n"
     ]
    }
   ],
   "source": [
    "# subpods are just dicts:\n",
    "# \"All objects returned are dictionary subclasses, so to find out which attributes Wolfram|Alpha has supplied, simply invoke .keys() on the object. Attributes formed from XML attributes can be accessed with or without their “@” prefix (added by xmltodict).\"\n",
    "for pod in res.pods:\n",
    "    for sub in pod.subpods:\n",
    "        print(sub.keys())"
   ]
  },
  {
   "cell_type": "code",
   "execution_count": 22,
   "metadata": {},
   "outputs": [
    {
     "name": "stdout",
     "output_type": "stream",
     "text": [
      "true\n"
     ]
    }
   ],
   "source": [
    "res['@success'] == 'false'\n",
    "print(res['@success'])"
   ]
  },
  {
   "cell_type": "code",
   "execution_count": 104,
   "metadata": {},
   "outputs": [
    {
     "data": {
      "text/plain": [
       "['⋮ | | | ',\n",
       " '611 | Abdiel | 439 people/yr | ',\n",
       " '612 | Hamza | 438 people/yr | ',\n",
       " '613 | Chris | 437 people/yr | ',\n",
       " '614 | Alfredo | 437 people/yr | ',\n",
       " '615 | Finnley | 436 people/yr | ',\n",
       " '⋮']"
      ]
     },
     "execution_count": 104,
     "metadata": {},
     "output_type": "execute_result"
    }
   ],
   "source": [
    "ls_plaintext = pod['subpod']['plaintext'].split('\\n')\n",
    "ls_plaintext"
   ]
  },
  {
   "cell_type": "code",
   "execution_count": 109,
   "metadata": {},
   "outputs": [
    {
     "data": {
      "text/plain": [
       "{'@title': 'Result',\n",
       " '@scanner': 'Ordinal',\n",
       " '@id': 'Result',\n",
       " '@position': '200',\n",
       " '@error': 'false',\n",
       " '@numsubpods': '1',\n",
       " '@primary': 'true',\n",
       " 'subpod': {'@title': '',\n",
       "  'datasources': {'datasource': 'USSSABabyNames'},\n",
       "  'img': {'@src': 'https://www5a.wolframalpha.com/Calculate/MSP/MSP781317gaai7a8iged26c00004d5ab26gaeeg07bh?MSPStoreType=image/gif&s=40',\n",
       "   '@alt': 'Keane (31 people per year)',\n",
       "   '@title': 'Keane (31 people per year)',\n",
       "   '@width': '133',\n",
       "   '@height': '38',\n",
       "   '@type': 'Default',\n",
       "   '@themes': '1,2,3,4,5,6,7,8,9,10,11,12',\n",
       "   '@colorinvertable': 'true'},\n",
       "  'plaintext': 'Keane\\n(31 people per year)'},\n",
       " 'expressiontypes': {'@count': '1', 'expressiontype': {'@name': 'Grid'}}}"
      ]
     },
     "execution_count": 109,
     "metadata": {},
     "output_type": "execute_result"
    }
   ],
   "source": [
    "list(res.pods)[1]"
   ]
  },
  {
   "cell_type": "code",
   "execution_count": 89,
   "metadata": {},
   "outputs": [
    {
     "data": {
      "text/plain": [
       "'⋮'"
      ]
     },
     "execution_count": 89,
     "metadata": {},
     "output_type": "execute_result"
    }
   ],
   "source": [
    "pod['subpod']['plaintext'].split('\\n')[-1]"
   ]
  },
  {
   "cell_type": "code",
   "execution_count": 37,
   "metadata": {},
   "outputs": [
    {
     "data": {
      "text/plain": [
       "{'@title': 'Input interpretation',\n",
       " '@scanner': 'Identity',\n",
       " '@id': 'Input',\n",
       " '@position': '100',\n",
       " '@error': 'false',\n",
       " '@numsubpods': '1',\n",
       " 'subpod': {'@title': '',\n",
       "  'img': {'@src': 'https://www5b.wolframalpha.com/Calculate/MSP/MSP168140aef83bgg0g42g00004c9gb577gef3bf71?MSPStoreType=image/gif&s=51',\n",
       "   '@alt': 'Chris (male given name) | etymology',\n",
       "   '@title': 'Chris (male given name) | etymology',\n",
       "   '@width': '261',\n",
       "   '@height': '23',\n",
       "   '@type': 'Grid',\n",
       "   '@themes': '1,2,3,4,5,6,7,8,9,10,11,12',\n",
       "   '@colorinvertable': 'true'},\n",
       "  'plaintext': 'Chris (male given name) | etymology'},\n",
       " 'expressiontypes': {'@count': '1', 'expressiontype': {'@name': 'Grid'}}}"
      ]
     },
     "execution_count": 37,
     "metadata": {},
     "output_type": "execute_result"
    }
   ],
   "source": [
    "next(res.pods)"
   ]
  },
  {
   "cell_type": "code",
   "execution_count": 50,
   "metadata": {},
   "outputs": [
    {
     "name": "stdout",
     "output_type": "stream",
     "text": [
      "0 0 613th US male given names | by current naming frequency\n",
      "\n",
      "1 0 Chris\n",
      "(437 people per year)\n",
      "\n",
      "2 0 rank | 613th\n",
      "fraction | 1 in 4120 people (0.024%)\n",
      "number | 437 people per year\n",
      "(US data based on 2018 births and other SSA registrations in the US)\n",
      "\n",
      "3 0 None\n",
      "\n",
      "4 0 expected total number alive today | 126812 people\n",
      "expected population fraction | 1 in 2074 people (0.048%)\n",
      "expected rank | 413th\n",
      "most common age | 49 years\n",
      "(using standard US mortality data)\n",
      "\n",
      "5 0 None\n",
      "\n",
      "6 0 Christian | Christ'o | Christopher | Kester | Kitappa | Tenny | Tiny | Topher | Xian | Xph'r | Xpr | Xtianus | Xtopherus\n",
      "\n",
      "7 0 Chris Hemsworth (actor) (born 1983) (age: 37 years)\n",
      "Chris Jericho (wrestler) (born 1970) (age: 49 years)\n",
      "Chris Pratt (actor) (born 1979) (age: 41 years)\n",
      "Chris Pine (actor) (born 1980) (age: 40 years)\n",
      "Chris Martin (singer/songwriter, etc.) (born 1977)\n",
      "Chris Rock (comedian) (born 1965) (age: 55 years)\n",
      "Chris Benoit (wrestler) (1967 to 2007)\n",
      "Chris Farley (comedian) (1964 to 1997)\n",
      "Chris Tucker (comedian) (1971 to 1971)\n",
      "Chris Paul (basketball player) (born 1985) (age: 35 years)\n",
      "...\n",
      "\n",
      "8 0 Short form of Christopher, Christian and other names that begin with Chris\n",
      "\n",
      "9 0 ⋮ | | | \n",
      "611 | Abdiel | 439 people/yr | \n",
      "612 | Hamza | 438 people/yr | \n",
      "613 | Chris | 437 people/yr | \n",
      "614 | Alfredo | 437 people/yr | \n",
      "615 | Finnley | 436 people/yr | \n",
      "⋮\n",
      "\n"
     ]
    }
   ],
   "source": [
    "# locations of info\n",
    "int_pod = 0\n",
    "for pod in res.pods:\n",
    "    int_sub = 0\n",
    "    for sub in pod.subpods:\n",
    "        print(int_pod, int_sub, sub['plaintext'])\n",
    "            \n",
    "        int_sub = int_sub + 1\n",
    "        print()\n",
    "    \n",
    "    int_pod = int_pod + 1\n",
    "    \n",
    "# no pods have more than one sub"
   ]
  },
  {
   "cell_type": "code",
   "execution_count": 14,
   "metadata": {
    "scrolled": true
   },
   "outputs": [
    {
     "name": "stdout",
     "output_type": "stream",
     "text": [
      "0 0 Chris (male given name) | etymology\n",
      "\n",
      "1 0 Short form of Christopher, Christian and other names that begin with Chris\n",
      "\n"
     ]
    }
   ],
   "source": [
    "# locations of info\n",
    "int_pod = 0\n",
    "for pod in res.pods:\n",
    "    int_sub = 0\n",
    "    for sub in pod.subpods:\n",
    "        print(int_pod, int_sub, sub['plaintext'])\n",
    "            \n",
    "        int_sub = int_sub + 1\n",
    "        print()\n",
    "    \n",
    "    int_pod = int_pod + 1\n",
    "    \n",
    "# no pods have more than one sub"
   ]
  },
  {
   "cell_type": "code",
   "execution_count": null,
   "metadata": {},
   "outputs": [],
   "source": [
    "# save raw data\n",
    "dict_raw = {}\n",
    "int_pod = 0\n",
    "for pod in res.pods:\n",
    "    dict_raw[int_pod] = {}\n",
    "    sub = next(pod.subpods) # there's only one\n",
    "    if sub['plaintext'] is not None:\n",
    "        dict_raw[int_pod] = sub['plaintext'].split('\\n')\n",
    "    else:\n",
    "        dict_raw[int_pod] = {'@src': sub['img']['@src'], '@alt': sub['img']['@alt']}\n",
    "    \n",
    "    int_pod = int_pod + 1\n",
    "    \n",
    "dict_raw"
   ]
  },
  {
   "cell_type": "code",
   "execution_count": null,
   "metadata": {
    "scrolled": true
   },
   "outputs": [],
   "source": [
    "# save raw data\n",
    "dict_raw = {}\n",
    "int_pod = 0\n",
    "for pod in res.pods:\n",
    "    dict_raw[int_pod] = {}\n",
    "    sub = next(pod.subpods) # there's only one\n",
    "    if sub['plaintext'] is not None:\n",
    "        dict_raw[int_pod] = sub['plaintext'].split('\\n')\n",
    "    else:\n",
    "        dict_raw[int_pod] = {'@src': sub['img']['@src'], '@alt': sub['img']['@alt']}\n",
    "    \n",
    "    int_pod = int_pod + 1\n",
    "    \n",
    "dict_raw"
   ]
  },
  {
   "cell_type": "code",
   "execution_count": null,
   "metadata": {},
   "outputs": [],
   "source": [
    "# downlaod images\n",
    "\n",
    "str_path_img_history = os.path.join(gbl_str_path_output, str(gbl_int_rank).zfill(5) + \" \" + dict_raw[1][0] + \"-history.jpg\")\n",
    "str_path_img_age = os.path.join(gbl_str_path_output, str(gbl_int_rank).zfill(5) + \" \" + dict_raw[1][0] + \"-age.jpg\")\n",
    "\n",
    "urllib.request.urlretrieve(dict_raw[3]['@src'], str_path_img_history)\n",
    "urllib.request.urlretrieve(dict_raw[5]['@src'], str_path_img_age)"
   ]
  },
  {
   "cell_type": "code",
   "execution_count": null,
   "metadata": {},
   "outputs": [],
   "source": [
    "# send email\n",
    "# https://realpython.com/python-send-email/\n",
    "\n",
    "sender_email = \"carbobot3030@gmail.com\"\n",
    "# receiver_email = [\"ccarbonell228@gmail.com\", \"katiemoore1010@gmail.com\"]\n",
    "receiver_email = [\"ccarbonell228@gmail.com\"] # improvement: get from shared volume so we can take her off\n",
    "\n",
    "message = MIMEMultipart(\"alternative\")\n",
    "message[\"Subject\"] = \"Baby Name: \" + dict_raw[1][0]\n",
    "message[\"From\"] = sender_email\n",
    "message[\"To\"] = \", \".join(receiver_email)\n",
    "\n",
    "text = \"\"\"\n",
    "\"\"\" + dict_raw[1][0] + \"\"\"\n",
    "\"\"\" + dict_raw[8][0] + \"\"\"\n",
    "\"\"\"\n",
    "\n",
    "html = \"\"\"\\\n",
    "<html>\n",
    "  <head></head>\n",
    "  <body>\n",
    "    <h1>\"\"\" + dict_raw[1][0] + \"\"\"</h1>\n",
    "    <b style='color:blue'><i>\"\"\" + dict_raw[8][0] + \"\"\"</i></b>\n",
    "    \n",
    "    <h2>Random Stats</h2>\n",
    "    <ul>\n",
    "        <li>\"\"\" + dict_raw[2][0].split(\"|\")[1].strip() + \"\"\" most popular</li>\n",
    "        <li>\"\"\" + dict_raw[2][1].split(\"|\")[1].strip() + \"\"\"</li>\n",
    "        <li>\"\"\" + dict_raw[2][2].split(\"|\")[1].strip() + \"\"\"</li>\n",
    "        <li>\"\"\" + dict_raw[4][0].replace(\"|\",\"=\") + \"\"\"</li>\n",
    "        <li>\"\"\" + dict_raw[4][3].replace(\"|\",\"=\") + \"\"\"</li>\n",
    "    </ul>\n",
    "    \n",
    "    <h2>\"\"\" + dict_raw[3]['@alt'] + \"\"\"</h2>\n",
    "    <img src=\"cid:image1\">\n",
    "    \n",
    "    <h2>\"\"\" + dict_raw[5]['@alt'] + \"\"\"</h2>\n",
    "    <img src=\"cid:image2\">\n",
    "    \n",
    "    <h2>Famous Examples</h2>\n",
    "    <ul>\n",
    "    \"\"\" + \"\\n\".join([\"<li>\" + str_example + \"</li>\" for str_example in dict_raw[7]]) + \"\"\"\n",
    "    </ul>\n",
    "    \n",
    "    <h2>Sources</h2>\n",
    "    <ul>\n",
    "        <li>\"\"\" + dict_raw[2][3][1:-1] + \"\"\"</li>\n",
    "        <li>\"\"\" + dict_raw[4][4][1:-1] + \"\"\"</li>\n",
    "    </ul>\n",
    "  </body>\n",
    "</html>\n",
    "\"\"\"\n",
    "\n",
    "# Record the MIME types of both parts - text/plain and text/html.\n",
    "part1 = MIMEText(text, 'plain')\n",
    "part2 = MIMEText(html, 'html')\n",
    "\n",
    "# Attach parts into message container.\n",
    "# According to RFC 2046, the last part of a multipart message, in this case\n",
    "# the HTML message, is best and preferred.\n",
    "message.attach(part1)\n",
    "message.attach(part2)\n",
    "\n",
    "# download, encode, and attach image\n",
    "\n",
    "fp = open(str_path_img_history, 'rb')\n",
    "msgImage_history = MIMEImage(fp.read())\n",
    "fp.close()\n",
    "\n",
    "fp = open(str_path_img_age, 'rb')\n",
    "msgImage_age = MIMEImage(fp.read())\n",
    "fp.close()\n",
    "\n",
    "# Define the image's ID as referenced above\n",
    "\n",
    "msgImage_history.add_header('Content-ID', '<image1>')\n",
    "message.attach(msgImage_history)\n",
    "\n",
    "msgImage_age.add_header('Content-ID', '<image2>')\n",
    "message.attach(msgImage_age)\n",
    "\n",
    "# connect to gmail\n",
    "# for this to work, we need to turn ON less secure app access\n",
    "\n",
    "port = 465  # For SSL\n",
    "password = \"delthefunkyhomosapien\" # improvement: get from secrets\n",
    "\n",
    "# Create a secure SSL context\n",
    "context = ssl.create_default_context()\n",
    "with smtplib.SMTP_SSL(\"smtp.gmail.com\", 465, context=context) as server:\n",
    "    server.login(sender_email, password)\n",
    "    server.sendmail(\n",
    "        sender_email, receiver_email, message.as_string()\n",
    "    )"
   ]
  }
 ],
 "metadata": {
  "kernelspec": {
   "display_name": "Python 3",
   "language": "python",
   "name": "python3"
  },
  "language_info": {
   "codemirror_mode": {
    "name": "ipython",
    "version": 3
   },
   "file_extension": ".py",
   "mimetype": "text/x-python",
   "name": "python",
   "nbconvert_exporter": "python",
   "pygments_lexer": "ipython3",
   "version": "3.8.2"
  }
 },
 "nbformat": 4,
 "nbformat_minor": 4
}

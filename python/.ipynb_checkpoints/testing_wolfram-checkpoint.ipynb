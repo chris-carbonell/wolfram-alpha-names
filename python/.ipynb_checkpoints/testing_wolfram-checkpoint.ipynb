{
 "cells": [
  {
   "cell_type": "code",
   "execution_count": 87,
   "metadata": {},
   "outputs": [],
   "source": [
    "%%bash\n",
    "mkdir /python/output"
   ]
  },
  {
   "cell_type": "code",
   "execution_count": 1,
   "metadata": {},
   "outputs": [],
   "source": [
    "# general\n",
    "import os\n",
    "import random\n",
    "import csv\n",
    "\n",
    "# wolfram alpha\n",
    "import wolframalpha\n",
    "\n",
    "# images\n",
    "import urllib.request\n",
    "\n",
    "# email\n",
    "import smtplib, ssl\n",
    "from email.mime.text import MIMEText\n",
    "from email.mime.multipart import MIMEMultipart\n",
    "from email.mime.image import MIMEImage"
   ]
  },
  {
   "cell_type": "code",
   "execution_count": 3,
   "metadata": {
    "scrolled": true
   },
   "outputs": [
    {
     "data": {
      "text/plain": [
       "['ccarbonell228@gmail.com']"
      ]
     },
     "execution_count": 3,
     "metadata": {},
     "output_type": "execute_result"
    }
   ],
   "source": [
    "# get list from csv\n",
    "\n",
    "with open('/python/input/emails.csv', newline='') as f:\n",
    "    reader = csv.reader(f)\n",
    "    receiver_email = [row[0] for row in reader]\n",
    "    \n",
    "receiver_email"
   ]
  },
  {
   "cell_type": "markdown",
   "metadata": {},
   "source": [
    "Source:<br>\n",
    "https://www.geeksforgeeks.org/python-create-a-simple-assistant-using-wolfram-alpha-api/"
   ]
  },
  {
   "cell_type": "code",
   "execution_count": 4,
   "metadata": {},
   "outputs": [],
   "source": [
    "gbl_app_id = '2H79RA-9HVG6K889K' # improvement: get from secrets.py\n",
    "gbl_str_path_output = \"/python/output/\" # end with last /"
   ]
  },
  {
   "cell_type": "code",
   "execution_count": 5,
   "metadata": {},
   "outputs": [],
   "source": [
    "# randomize\n",
    "gbl_str_gender = random.choice(['boys','girls'])\n",
    "gbl_int_rank = random.randint(1,5000)"
   ]
  },
  {
   "cell_type": "code",
   "execution_count": 7,
   "metadata": {},
   "outputs": [],
   "source": [
    "# wc = wolframalpha.Client(gbl_app_id)\n",
    "wc = wolframalpha.Client(gbl_app_id)"
   ]
  },
  {
   "cell_type": "code",
   "execution_count": 100,
   "metadata": {},
   "outputs": [],
   "source": [
    "# testing\n",
    "question = \" \".join([\"#\" + str(gbl_int_rank), gbl_str_gender, \"name\"]) # ie \"#1 boys name\"\n",
    "# res = wc.query(question)\n"
   ]
  },
  {
   "cell_type": "code",
   "execution_count": 56,
   "metadata": {},
   "outputs": [
    {
     "name": "stdout",
     "output_type": "stream",
     "text": [
      "dict_keys(['@title', 'img', 'plaintext'])\n",
      "dict_keys(['@title', 'datasources', 'img', 'plaintext'])\n",
      "dict_keys(['@title', 'microsources', 'datasources', 'img', 'plaintext'])\n",
      "dict_keys(['@title', 'microsources', 'datasources', 'img', 'plaintext'])\n",
      "dict_keys(['@title', 'microsources', 'img', 'plaintext'])\n",
      "dict_keys(['@title', 'microsources', 'img', 'plaintext'])\n",
      "dict_keys(['@title', 'microsources', 'img', 'plaintext'])\n",
      "dict_keys(['@title', 'microsources', 'img', 'plaintext'])\n",
      "dict_keys(['@title', 'microsources', 'datasources', 'img', 'plaintext'])\n",
      "dict_keys(['@title', 'microsources', 'datasources', 'img', 'plaintext'])\n"
     ]
    }
   ],
   "source": [
    "# subpods are just dicts:\n",
    "# \"All objects returned are dictionary subclasses, so to find out which attributes Wolfram|Alpha has supplied, simply invoke .keys() on the object. Attributes formed from XML attributes can be accessed with or without their “@” prefix (added by xmltodict).\"\n",
    "for pod in res.pods:\n",
    "    for sub in pod.subpods:\n",
    "        print(sub.keys())"
   ]
  },
  {
   "cell_type": "code",
   "execution_count": 59,
   "metadata": {
    "scrolled": true
   },
   "outputs": [
    {
     "name": "stdout",
     "output_type": "stream",
     "text": [
      "0 0 top US male given names | by current naming frequency\n",
      "\n",
      "1 0 Liam\n",
      "(19837 people per year)\n",
      "\n",
      "2 0 rank | 1st\n",
      "fraction | 1 in 91 people (1.1%)\n",
      "number | 19837 people per year\n",
      "(US data based on 2018 births and other SSA registrations in the US)\n",
      "\n",
      "3 0 None\n",
      "\n",
      "4 0 expected total number alive today | 59122 people\n",
      "expected population fraction | 1 in 4449 people (0.022%)\n",
      "expected rank | 726th\n",
      "most common age | 2 years\n",
      "(using standard US mortality data)\n",
      "\n",
      "5 0 None\n",
      "\n",
      "6 0 Bill | Billy | Bilwa | Bud | Gul | Will | William | Willie | Will'm | Willy | W'm | Wm\n",
      "\n",
      "7 0 Liam Neeson (actor) (born 1952) (age: 68 years)\n",
      "Liam Hemsworth (actor) (born 1990) (age: 30 years)\n",
      "Liam Gallagher (musician) (born 1972) (age: 48 years)\n",
      "Liam Howlett (musician) (born 1971) (age: 49 years)\n",
      "Liam Aiken (actor) (born 1990) (age: 30 years)\n",
      "Liam James (actor) (born 1996) (age: 24 years)\n",
      "Liam Fox (politician) (born 1961) (age: 59 years)\n",
      "Liam O'Flaherty (novelist) (1896 to 1984)\n",
      "Liam Boyce (soccer player) (born 1991) (age: 29 years)\n",
      "Liam Cosgrave (politician, etc.) (1920 to 2017)\n",
      "...\n",
      "\n",
      "8 0 Irish short form of William\n",
      "\n",
      "9 0 1 | Liam | 19837 people/yr | \n",
      "2 | Noah | 18267 people/yr | \n",
      "3 | William | 14516 people/yr | \n",
      "4 | James | 13525 people/yr | \n",
      "5 | Oliver | 13389 people/yr | \n",
      "⋮\n",
      "\n"
     ]
    }
   ],
   "source": [
    "# locations of info\n",
    "int_pod = 0\n",
    "for pod in res.pods:\n",
    "    int_sub = 0\n",
    "    for sub in pod.subpods:\n",
    "        print(int_pod, int_sub, sub['plaintext'])\n",
    "            \n",
    "        int_sub = int_sub + 1\n",
    "        print()\n",
    "    \n",
    "    int_pod = int_pod + 1\n",
    "    \n",
    "# no pods have more than one sub"
   ]
  },
  {
   "cell_type": "code",
   "execution_count": 101,
   "metadata": {
    "scrolled": true
   },
   "outputs": [
    {
     "data": {
      "text/plain": [
       "{0: ['1644th US male given names | by current naming frequency'],\n",
       " 1: ['Teddy', '(98 people per year)'],\n",
       " 2: ['rank | 1639th',\n",
       "  'fraction | 1 in 18371 people (0.0054%)',\n",
       "  'number | 98 people per year',\n",
       "  '(US data based on 2018 births and other SSA registrations in the US)'],\n",
       " 3: {'@src': 'https://www4c.wolframalpha.com/Calculate/MSP/MSP84621197b29e0da512e800002ca29h869hi8d6cg?MSPStoreType=image/gif&s=16',\n",
       "  '@alt': 'History for US births Fraction'},\n",
       " 4: ['expected total number alive today | 24466 people',\n",
       "  'expected population fraction | 1 in 10751 people (0.0093%)',\n",
       "  'expected rank | 1245th',\n",
       "  'most common age | 49 years',\n",
       "  '(using standard US mortality data)'],\n",
       " 5: {'@src': 'https://www4c.wolframalpha.com/Calculate/MSP/MSP84641197b29e0da512e800002ah17a49b0c1874i?MSPStoreType=image/gif&s=16',\n",
       "  '@alt': 'Estimated current age distribution'},\n",
       " 6: [\"Ed | Eddie | Eddy | Edm | Edm'd | Edmond | Edmund | Edrus | Eduardo | Edw | Edward | Edw'd | Tad | Ted | Theo | Theodore | Theotric\"],\n",
       " 7: ['Teddy Pendergrass (singer/songwriter, etc.) (1950 to 2010)',\n",
       "  'Teddy Riner (athlete) (born 1989) (age: 31 years)',\n",
       "  'Teddy Lehman (American football player) (born 1981) (age: 38 years)',\n",
       "  'Teddy Charles (musician, etc.) (1928 to 2012)',\n",
       "  'Teddy Higuera (baseball player) (born 1957) (age: 62 years)',\n",
       "  'Teddy Buckner (musician, etc.) (1909 to 1994)',\n",
       "  'Teddy Blass (record producer, etc.) (born 1984) (age: 36 years)',\n",
       "  'Teddy Billington (athlete) (1882 to 1966)'],\n",
       " 8: ['Diminutive of Edward or Theodore'],\n",
       " 9: ['⋮ | | | ',\n",
       "  '1642 | Braxten | 98 people/yr | ',\n",
       "  '1643 | Kaleo | 98 people/yr | ',\n",
       "  '1644 | Teddy | 98 people/yr | ',\n",
       "  '1645 | Pranav | 98 people/yr | ',\n",
       "  '1646 | Kadyn | 98 people/yr | ',\n",
       "  '⋮']}"
      ]
     },
     "execution_count": 101,
     "metadata": {},
     "output_type": "execute_result"
    }
   ],
   "source": [
    "# save raw data\n",
    "dict_raw = {}\n",
    "int_pod = 0\n",
    "for pod in res.pods:\n",
    "    dict_raw[int_pod] = {}\n",
    "    sub = next(pod.subpods) # there's only one\n",
    "    if sub['plaintext'] is not None:\n",
    "        dict_raw[int_pod] = sub['plaintext'].split('\\n')\n",
    "    else:\n",
    "        dict_raw[int_pod] = {'@src': sub['img']['@src'], '@alt': sub['img']['@alt']}\n",
    "    \n",
    "    int_pod = int_pod + 1\n",
    "    \n",
    "dict_raw"
   ]
  },
  {
   "cell_type": "code",
   "execution_count": 105,
   "metadata": {},
   "outputs": [
    {
     "data": {
      "text/plain": [
       "('./output/01644 Teddy-age.jpg', <http.client.HTTPMessage at 0x7f7bf89fb2b0>)"
      ]
     },
     "execution_count": 105,
     "metadata": {},
     "output_type": "execute_result"
    }
   ],
   "source": [
    "# downlaod images\n",
    "\n",
    "str_path_img_history = os.path.join(gbl_str_path_output, str(gbl_int_rank).zfill(5) + \" \" + dict_raw[1][0] + \"-history.jpg\")\n",
    "str_path_img_age = os.path.join(gbl_str_path_output, str(gbl_int_rank).zfill(5) + \" \" + dict_raw[1][0] + \"-age.jpg\")\n",
    "\n",
    "urllib.request.urlretrieve(dict_raw[3]['@src'], str_path_img_history)\n",
    "urllib.request.urlretrieve(dict_raw[5]['@src'], str_path_img_age)"
   ]
  },
  {
   "cell_type": "code",
   "execution_count": 122,
   "metadata": {},
   "outputs": [],
   "source": [
    "# send email\n",
    "# https://realpython.com/python-send-email/\n",
    "\n",
    "sender_email = \"carbobot3030@gmail.com\"\n",
    "# receiver_email = [\"ccarbonell228@gmail.com\", \"katiemoore1010@gmail.com\"]\n",
    "receiver_email = [\"ccarbonell228@gmail.com\"] # improvement: get from shared volume so we can take her off\n",
    "\n",
    "message = MIMEMultipart(\"alternative\")\n",
    "message[\"Subject\"] = \"Baby Name: \" + dict_raw[1][0]\n",
    "message[\"From\"] = sender_email\n",
    "message[\"To\"] = \", \".join(receiver_email)\n",
    "\n",
    "text = \"\"\"\n",
    "\"\"\" + dict_raw[1][0] + \"\"\"\n",
    "\"\"\" + dict_raw[8][0] + \"\"\"\n",
    "\"\"\"\n",
    "\n",
    "html = \"\"\"\\\n",
    "<html>\n",
    "  <head></head>\n",
    "  <body>\n",
    "    <h1>\"\"\" + dict_raw[1][0] + \"\"\"</h1>\n",
    "    <b style='color:blue'><i>\"\"\" + dict_raw[8][0] + \"\"\"</i></b>\n",
    "    \n",
    "    <h2>Random Stats</h2>\n",
    "    <ul>\n",
    "        <li>\"\"\" + dict_raw[2][0].split(\"|\")[1].strip() + \"\"\" most popular</li>\n",
    "        <li>\"\"\" + dict_raw[2][1].split(\"|\")[1].strip() + \"\"\"</li>\n",
    "        <li>\"\"\" + dict_raw[2][2].split(\"|\")[1].strip() + \"\"\"</li>\n",
    "        <li>\"\"\" + dict_raw[4][0].replace(\"|\",\"=\") + \"\"\"</li>\n",
    "        <li>\"\"\" + dict_raw[4][3].replace(\"|\",\"=\") + \"\"\"</li>\n",
    "    </ul>\n",
    "    \n",
    "    <h2>\"\"\" + dict_raw[3]['@alt'] + \"\"\"</h2>\n",
    "    <img src=\"cid:image1\">\n",
    "    \n",
    "    <h2>\"\"\" + dict_raw[5]['@alt'] + \"\"\"</h2>\n",
    "    <img src=\"cid:image2\">\n",
    "    \n",
    "    <h2>Famous Examples</h2>\n",
    "    <ul>\n",
    "    \"\"\" + \"\\n\".join([\"<li>\" + str_example + \"</li>\" for str_example in dict_raw[7]]) + \"\"\"\n",
    "    </ul>\n",
    "    \n",
    "    <h2>Sources</h2>\n",
    "    <ul>\n",
    "        <li>\"\"\" + dict_raw[2][3][1:-1] + \"\"\"</li>\n",
    "        <li>\"\"\" + dict_raw[4][4][1:-1] + \"\"\"</li>\n",
    "    </ul>\n",
    "  </body>\n",
    "</html>\n",
    "\"\"\"\n",
    "\n",
    "# Record the MIME types of both parts - text/plain and text/html.\n",
    "part1 = MIMEText(text, 'plain')\n",
    "part2 = MIMEText(html, 'html')\n",
    "\n",
    "# Attach parts into message container.\n",
    "# According to RFC 2046, the last part of a multipart message, in this case\n",
    "# the HTML message, is best and preferred.\n",
    "message.attach(part1)\n",
    "message.attach(part2)\n",
    "\n",
    "# download, encode, and attach image\n",
    "\n",
    "fp = open(str_path_img_history, 'rb')\n",
    "msgImage_history = MIMEImage(fp.read())\n",
    "fp.close()\n",
    "\n",
    "fp = open(str_path_img_age, 'rb')\n",
    "msgImage_age = MIMEImage(fp.read())\n",
    "fp.close()\n",
    "\n",
    "# Define the image's ID as referenced above\n",
    "\n",
    "msgImage_history.add_header('Content-ID', '<image1>')\n",
    "message.attach(msgImage_history)\n",
    "\n",
    "msgImage_age.add_header('Content-ID', '<image2>')\n",
    "message.attach(msgImage_age)\n",
    "\n",
    "# connect to gmail\n",
    "# for this to work, we need to turn ON less secure app access\n",
    "\n",
    "port = 465  # For SSL\n",
    "password = \"delthefunkyhomosapien\" # improvement: get from secrets\n",
    "\n",
    "# Create a secure SSL context\n",
    "context = ssl.create_default_context()\n",
    "with smtplib.SMTP_SSL(\"smtp.gmail.com\", 465, context=context) as server:\n",
    "    server.login(sender_email, password)\n",
    "    server.sendmail(\n",
    "        sender_email, receiver_email, message.as_string()\n",
    "    )"
   ]
  }
 ],
 "metadata": {
  "kernelspec": {
   "display_name": "Python 3",
   "language": "python",
   "name": "python3"
  },
  "language_info": {
   "codemirror_mode": {
    "name": "ipython",
    "version": 3
   },
   "file_extension": ".py",
   "mimetype": "text/x-python",
   "name": "python",
   "nbconvert_exporter": "python",
   "pygments_lexer": "ipython3",
   "version": "3.8.2"
  }
 },
 "nbformat": 4,
 "nbformat_minor": 4
}
